{
  "nbformat": 4,
  "nbformat_minor": 0,
  "metadata": {
    "colab": {
      "name": "csci195_homework1_JohnSmith(0123456).ipynb",
      "version": "0.3.2",
      "provenance": []
    },
    "kernelspec": {
      "name": "python3",
      "display_name": "Python 3"
    }
  },
  "cells": [
    {
      "cell_type": "markdown",
      "metadata": {
        "id": "ivN0cMOBFwrd",
        "colab_type": "text"
      },
      "source": [
        "## CSCI 195 Homework 1 \n",
        "## John Smith (0123456) \n",
        "## Homework description\n",
        "blah blah blah..."
      ]
    },
    {
      "cell_type": "code",
      "metadata": {
        "id": "Yyx9_6inGKLx",
        "colab_type": "code",
        "colab": {}
      },
      "source": [
        "# you code here"
      ],
      "execution_count": 0,
      "outputs": []
    }
  ]
}