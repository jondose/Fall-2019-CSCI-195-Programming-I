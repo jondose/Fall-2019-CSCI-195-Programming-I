{
  "nbformat": 4,
  "nbformat_minor": 0,
  "metadata": {
    "colab": {
      "name": "Chapter1.ipynb",
      "version": "0.3.2",
      "provenance": [],
      "collapsed_sections": [],
      "include_colab_link": true
    },
    "kernelspec": {
      "name": "python3",
      "display_name": "Python 3"
    }
  },
  "cells": [
    {
      "cell_type": "markdown",
      "metadata": {
        "id": "view-in-github",
        "colab_type": "text"
      },
      "source": [
        "<a href=\"https://colab.research.google.com/github/ZhangNingSAU/Fall-2019-CSCI-195-Programming-I/blob/master/Chapter1.ipynb\" target=\"_parent\"><img src=\"https://colab.research.google.com/assets/colab-badge.svg\" alt=\"Open In Colab\"/></a>"
      ]
    },
    {
      "cell_type": "markdown",
      "metadata": {
        "id": "rIfNirBcN6Z_",
        "colab_type": "text"
      },
      "source": [
        "# CSCI 195 Fall 2019\n",
        "## Lectures for chapter 1\n",
        "## Dr. Ning Zhang"
      ]
    },
    {
      "cell_type": "markdown",
      "metadata": {
        "id": "rkQQ6JQ5POGn",
        "colab_type": "text"
      },
      "source": [
        "## 08/21/2019 Lecture 1\n"
      ]
    },
    {
      "cell_type": "markdown",
      "metadata": {
        "id": "b5TGv19dPkwR",
        "colab_type": "text"
      },
      "source": [
        "## Part 1: [Syllabus](https://zhangningsau.github.io/CSCI195/Fall2019/Syllabus.html)"
      ]
    },
    {
      "cell_type": "markdown",
      "metadata": {
        "id": "u4dZiKe3QZe2",
        "colab_type": "text"
      },
      "source": [
        "## Part 2: "
      ]
    }
  ]
}