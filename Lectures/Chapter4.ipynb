{
 "cells": [
  {
   "cell_type": "markdown",
   "metadata": {},
   "source": [
    "# CSCI 195 Fall 2019\n",
    "# Chapter 4: A nest of snakes: introducing the Python collections"
   ]
  },
  {
   "cell_type": "markdown",
   "metadata": {},
   "source": [
    "## objective\n",
    "+ to understand Python lists\n",
    "+ to use lists as a means of sorting data\n",
    "+ to use dictionaries to store associated data\n",
    "+ to implement algorithms to compute elementary statistics\n"
   ]
  },
  {
   "cell_type": "markdown",
   "metadata": {},
   "source": [
    "## data\n",
    "+ an assorted of items, many times numerical, that have been observed, measured, or collected by some means.\n",
    "\n",
    "## information\n",
    "+ the underlying characteristics of the (raw) data.\n",
    "\n",
    "## statistics\n",
    "+ the mathematic science we use the information to make generalization about the data.\n",
    "\n"
   ]
  },
  {
   "cell_type": "markdown",
   "metadata": {},
   "source": [
    "## Sorting data for processing\n",
    "### If data items can be thought of as characters, we can use a string\n",
    "for example, a multiple-choice exam\n",
    "\n",
    "|Question|Answer|\n",
    "|----|----|\n",
    "|1|A|\n",
    "|2|B|\n",
    "|3|E|\n",
    "|4|A|\n",
    "|5|D|\n",
    "|6|B|\n",
    "|7|B|\n",
    "|8|A|\n",
    "|9|C|\n",
    "|10|E|"
   ]
  },
  {
   "cell_type": "code",
   "execution_count": null,
   "metadata": {},
   "outputs": [],
   "source": []
  },
  {
   "cell_type": "markdown",
   "metadata": {},
   "source": [
    "What if a math exam?\n",
    "\n",
    "|Question|Answer|\n",
    "|----|----|\n",
    "|1|34|\n",
    "|2|56|\n",
    "|3|2|\n",
    "|4|652|\n",
    "|5|26|\n",
    "|6|1|\n",
    "|7|99|\n",
    "|8|865|\n",
    "|9|22|\n",
    "|10|16|"
   ]
  },
  {
   "cell_type": "code",
   "execution_count": null,
   "metadata": {},
   "outputs": [],
   "source": []
  },
  {
   "cell_type": "markdown",
   "metadata": {},
   "source": [
    "## Lists\n",
    "![](../Resources/ch4-stringlist.png)\n",
    "\n",
    "+ syntax: list_name = [v1, v2, v3,...,vn]\n",
    "+ empty list: []\n"
   ]
  },
  {
   "cell_type": "code",
   "execution_count": null,
   "metadata": {},
   "outputs": [],
   "source": [
    "[3,\"cat\",6.5, True]\n",
    "\n",
    "mylist = [3,\"cat\",6.5, True]"
   ]
  },
  {
   "cell_type": "markdown",
   "metadata": {},
   "source": [
    "![](../Resources/ch4-list.png)\n",
    "\n",
    "+ operations on any sequence in Python\n",
    "\n",
    "|Operation Name|Operator|Explanation|\n",
    "|----|----|----|\n",
    "|Indexing|`[]`|Access an element of a sequence|\n",
    "|Concatenation|+|Combine sequences together|\n",
    "|Repetition|`*`|Concatenate a repeated number of times|\n",
    "|Memebership|`in`|Ask whether an item is in a sequence|\n",
    "|Membership|`not in`|Ask whether an item is NOT in a sequence|\n",
    "|Length|`len`|Ask the number of items in the sequence|\n",
    "|Slicing|`[:]`|Extract a part of a sequence|\n",
    " \n",
    "\n",
    "+ operations on Lists in Python\n",
    "\n",
    "|Operation Name|Operator|Explanation|Example|\n",
    "|----|----|----|----|\n",
    "|Deleting|`del` |Delete an item in a list by index|del list_name[2]|\n",
    "|Modifying|`[]`|Modify an item in a list by index |list_name[2] = 12345|\n",
    "\n",
    "Note: the index can not be out of range"
   ]
  },
  {
   "cell_type": "code",
   "execution_count": null,
   "metadata": {},
   "outputs": [],
   "source": []
  },
  {
   "cell_type": "markdown",
   "metadata": {},
   "source": [
    "## immutable strings vs. mutable lists\n",
    "+ immutable strings: individual items within a string can not be changed.\n",
    "+ mutable lists: individual items within a list can be modified.\n",
    "\n"
   ]
  },
  {
   "cell_type": "code",
   "execution_count": null,
   "metadata": {},
   "outputs": [],
   "source": []
  },
  {
   "cell_type": "markdown",
   "metadata": {},
   "source": [
    "## List methods\n",
    "|Method|Use|Exaplanation|\n",
    "|----|----|----|\n",
    "|append|alist.append(item)|Add a new item to the end of a list|\n",
    "|insert|alist.insert(i,item)|Insert an item at the <b>ith</b> position in a list|\n",
    "|pop|alist.pop()|Removes and returns the last item in a list|\n",
    "|pop|alist.pop(i)|Removes and returns the <b>ith</b> item in a list|\n",
    "|sort|alist.sort()|Modifies a list to be sorted|\n",
    "|reverse|alist.reverse()|Modifies a list to be in reverse order|\n",
    "|index|alist.index(item)|Returns the index of the first occrrence of <b>item</b>|\n",
    "|count|alist.count(item)|Retruns the number of occurrences of <b>item</b>|\n",
    "|remove|alist.remove(item)|Removes the first occurrence of <b>item</b>|"
   ]
  },
  {
   "cell_type": "code",
   "execution_count": null,
   "metadata": {},
   "outputs": [],
   "source": []
  },
  {
   "cell_type": "markdown",
   "metadata": {},
   "source": [
    "## a string to a list by split()\n",
    "+ split() is a string method.\n",
    "+ split() takes a string as a parameter that indicated the places to break the string into substrings.\n",
    "+ the default parameter is `space(s)`."
   ]
  },
  {
   "cell_type": "code",
   "execution_count": null,
   "metadata": {},
   "outputs": [],
   "source": []
  },
  {
   "cell_type": "markdown",
   "metadata": {},
   "source": [
    "## Statistics\n",
    "\n",
    "### Dispersion\n",
    "+ a measure of how spread out the data values are\n",
    "|built-in function|Use|Explanation|\n",
    "|----|----|----|\n",
    "|max|max(acollection)|returns the largest value in the collection|\n",
    "|min|min(acollection)|returns the smallest value in the collection|\n",
    "\n",
    "note that `range = max - min`.\n",
    "\n",
    "### Central Tendency\n",
    "+ a measure of where the \"center\" of a collection will be found\n",
    "    - mean: average\n",
    "    - median: item in the exact middle of a collection\n",
    "    - mode: the most frenquently occuring value(s)\n",
    "\n",
    "+ No built-in functions like mean(), median(), or mode()\n",
    "+ There is a module named `numpy`, there are functions in the mudule. After installation(we will learn how to install python modules later),\n",
    "\n",
    "~~~~\n",
    "import numpy as np\n",
    "\n",
    "a = [1,2,3,4,5,6,1]\n",
    "\n",
    "np.mean(a)\n",
    "np.median(a)\n",
    "np.mode(a)\n",
    "~~~~"
   ]
  },
  {
   "cell_type": "code",
   "execution_count": 12,
   "metadata": {},
   "outputs": [],
   "source": [
    "# Let's define our own mean() and median() functions\n",
    "def mean(alist):\n",
    "\n",
    "    return mean\n",
    "\n",
    "\n",
    "def median(alist):\n",
    "    \n",
    "    return median"
   ]
  },
  {
   "cell_type": "code",
   "execution_count": 8,
   "metadata": {},
   "outputs": [],
   "source": [
    "# Understand the definition of mode"
   ]
  },
  {
   "cell_type": "code",
   "execution_count": null,
   "metadata": {},
   "outputs": [],
   "source": []
  },
  {
   "cell_type": "markdown",
   "metadata": {},
   "source": [
    "## Dictionary\n",
    "![](../Resources/ch4-dictionary.png)\n",
    "+ syntax:\n",
    "    - my_dict = {key1:value1, key2:value2, .... , keyn:valuen}\n",
    "    - value1 = my_dict[key1]\n",
    "    \n",
    "|Method name|Use|Explanation|\n",
    "|----|----|----|\n",
    "|keys|adict.keys()|Returns a <b>dict_keys</b> object|\n",
    "|values|adict.values()|Returns a <b>dict_values</b> object|\n",
    "|items|adict.items()|Returns a <b>dict_items()</b> object|\n",
    "|get|adict.get(k)|Returns the value associated with k; <b>None</b> otherwise|\n",
    "|get|adict.get(k, alt)|Returns the value associated with k; <b>alt</b> otherwise|\n",
    "|in|key in adict|Return <b>True</b> if key in the dictionary, <b>False</b> otherwise|\n",
    "|not in|key not in adict|Return <b>True</b> if key <b>NOT</b> in the dictionary, <b>False</b> otherwise|\n",
    "|index|adict[key]|Returns the value associated with <b>key</b>|\n",
    "|del|del adict[key]|Removes the entry from the dictionary|"
   ]
  },
  {
   "cell_type": "code",
   "execution_count": null,
   "metadata": {},
   "outputs": [],
   "source": []
  },
  {
   "cell_type": "code",
   "execution_count": null,
   "metadata": {},
   "outputs": [],
   "source": []
  },
  {
   "cell_type": "markdown",
   "metadata": {},
   "source": [
    "## Define the mode function by using dictionary"
   ]
  },
  {
   "cell_type": "code",
   "execution_count": 14,
   "metadata": {},
   "outputs": [],
   "source": [
    "def mode(alist):\n",
    "    # create a dictionary, key:value -> number: frequency\n",
    "    # for each iteration in a list, we check if the item is in the dictionary or not\n",
    "    # if True, increase the frequency by 1\n",
    "    # else, set the occurrence to be 1\n",
    "    return mode"
   ]
  },
  {
   "cell_type": "code",
   "execution_count": 7,
   "metadata": {},
   "outputs": [
    {
     "data": {
      "text/plain": [
       "[]"
      ]
     },
     "execution_count": 7,
     "metadata": {},
     "output_type": "execute_result"
    },
    {
     "data": {
      "image/png": "[encoded data removed]",
      "text/plain": [
       "<Figure size 432x288 with 1 Axes>"
      ]
     },
     "metadata": {},
     "output_type": "display_data"
    }
   ],
   "source": [
    "\n",
    "a = [3,3,5,7,1,2,5,2,3,4,6,3,4,6,34,5,6,6]\n",
    "import matplotlib.pyplot as plt\n",
    "\n",
    "plt.hist(a,rwidth=0.85)\n",
    "plt.plot()"
   ]
  },
  {
   "cell_type": "code",
   "execution_count": null,
   "metadata": {},
   "outputs": [],
   "source": []
  }
 ],
 "metadata": {
  "kernelspec": {
   "display_name": "sklearn_tf",
   "language": "python",
   "name": "sklearn_tf"
  },
  "language_info": {
   "codemirror_mode": {
    "name": "ipython",
    "version": 3
   },
   "file_extension": ".py",
   "mimetype": "text/x-python",
   "name": "python",
   "nbconvert_exporter": "python",
   "pygments_lexer": "ipython3",
   "version": "3.5.6"
  }
 },
 "nbformat": 4,
 "nbformat_minor": 2
}
