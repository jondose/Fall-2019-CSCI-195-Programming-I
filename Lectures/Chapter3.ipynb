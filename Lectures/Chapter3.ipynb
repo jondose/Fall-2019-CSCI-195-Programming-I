{
 "cells": [
  {
   "cell_type": "markdown",
   "metadata": {},
   "source": [
    "# CSCI 195 Programming I\n",
    "# Fall 2019\n",
    "\n",
    "# Chapter 3 Codes and Other Secrets\n",
    "## objectives\n",
    "+ string data type\n",
    "+ string methods and operators\n",
    "+ simple cryptographic algorithms"
   ]
  },
  {
   "cell_type": "markdown",
   "metadata": {},
   "source": [
    "# String\n",
    "+ sequences of characters\n",
    "+ surrounded by quotes `'` or double quotes `\"`\n",
    "+ characters can be letters, numbers, punctuation marks, and even quotion marks\n",
    "    - When you want to have a string that contains a single quote, you use double quotes around outside of the string.\n",
    "    - When you want to have a string that contains a double quote, you use single quotes around outside of the string.\n",
    "    - If your string does not contain either single or double quotes, you use either single or double quotes around outside of the string.\n",
    "    \n",
    "\n"
   ]
  },
  {
   "cell_type": "code",
   "execution_count": null,
   "metadata": {},
   "outputs": [],
   "source": [
    "\"hello\"\n",
    "\n",
    "'world'\n",
    "\n",
    "\"'hello' world\"\n",
    "\n",
    "'\"hello\" world'\n",
    "\n",
    "a = \"hello\"\n",
    "b = 'world'"
   ]
  },
  {
   "cell_type": "code",
   "execution_count": null,
   "metadata": {},
   "outputs": [],
   "source": [
    "\n"
   ]
  },
  {
   "cell_type": "markdown",
   "metadata": {},
   "source": [
    "## Concatenation + "
   ]
  },
  {
   "cell_type": "code",
   "execution_count": 13,
   "metadata": {},
   "outputs": [
    {
     "name": "stdout",
     "output_type": "stream",
     "text": [
      "c =  1\n"
     ]
    }
   ],
   "source": [
    "a = \"hello\"\n",
    "b = 'world'\n",
    "\n",
    "c = 1\n",
    "print('c = ', c);\n"
   ]
  },
  {
   "cell_type": "markdown",
   "metadata": {},
   "source": [
    "## Repetition *"
   ]
  },
  {
   "cell_type": "code",
   "execution_count": 16,
   "metadata": {},
   "outputs": [
    {
     "name": "stdout",
     "output_type": "stream",
     "text": [
      "gogogo\n"
     ]
    }
   ],
   "source": [
    "a = 'go'\n",
    "# how to create 'gogogo'\n",
    "print(a*3)"
   ]
  },
  {
   "cell_type": "markdown",
   "metadata": {},
   "source": [
    "## Indexing [i]\n",
    "\n",
    "|0|1|2|3|4|5|6|7|8|9|10|\n",
    "|----|----|----|----|----|----|----|----|----|----|----|\n",
    "|H|e|l|l|o||W|o|r|l|d|\n",
    "|-11|-10|-9|-8|-7|-6|-5|-4|-3|-2|-1|"
   ]
  },
  {
   "cell_type": "code",
   "execution_count": 17,
   "metadata": {},
   "outputs": [
    {
     "name": "stdout",
     "output_type": "stream",
     "text": [
      "J\n",
      "o\n",
      "h\n",
      "n\n",
      " \n",
      "S\n",
      "m\n",
      "i\n",
      "t\n",
      "h\n"
     ]
    }
   ],
   "source": [
    "name = 'John Smith'\n",
    "first_character = name[0]\n",
    "last_character = name[-1]\n",
    "\n",
    "# we can use `len(string)` to return the length/number of characters of a string\n",
    "last_character = name[len(name)-1]\n",
    "\n",
    "\n",
    "for i in range(len(name)):\n",
    "    print(name[i])\n",
    "    \n"
   ]
  },
  {
   "cell_type": "code",
   "execution_count": 20,
   "metadata": {},
   "outputs": [
    {
     "name": "stdout",
     "output_type": "stream",
     "text": [
      "<str_iterator object at 0x10cfa5358>\n",
      "J\n",
      "o\n",
      "h\n",
      "n\n",
      " \n",
      "S\n",
      "m\n",
      "i\n",
      "t\n",
      "h\n"
     ]
    }
   ],
   "source": [
    "## There is another way to print each character in a sting\n",
    "## to check if a variable is iterable, we can use iter() function\n",
    "# iter(name)\n",
    "print(iter(name))\n",
    "\n",
    "for ch in name:\n",
    "    print(ch)\n"
   ]
  },
  {
   "cell_type": "markdown",
   "metadata": {},
   "source": [
    "## slicing [i:j]"
   ]
  },
  {
   "cell_type": "code",
   "execution_count": 22,
   "metadata": {},
   "outputs": [
    {
     "name": "stdout",
     "output_type": "stream",
     "text": [
      "John Smit\n",
      "John Smith\n",
      "John Smith\n"
     ]
    }
   ],
   "source": [
    "name\n",
    "name[0:5]\n",
    "name[0:5:2]\n",
    "name[1:5]\n",
    "print(name[0:-1])\n",
    "print(name[0:])\n",
    "print(name[:])"
   ]
  },
  {
   "cell_type": "markdown",
   "metadata": {},
   "source": [
    "## other useful functions\n",
    "### len() returns the length of a string\n",
    "### in determines whether the right string contains the left one\n",
    "###  not in"
   ]
  },
  {
   "cell_type": "code",
   "execution_count": 24,
   "metadata": {},
   "outputs": [
    {
     "name": "stdout",
     "output_type": "stream",
     "text": [
      "John Smith\n",
      "True\n",
      "False\n",
      "True\n"
     ]
    }
   ],
   "source": [
    "print(name)\n",
    "print('John' in name)\n",
    "print('john' in name)\n",
    "\n",
    "print('john' not in name)"
   ]
  },
  {
   "cell_type": "markdown",
   "metadata": {},
   "source": [
    "## String methods\n",
    "|Method|Use|Explanation|\n",
    "|----|----|----|\n",
    "|center|astring.center(w)|returns astring surrounded by spaces to make string_name w characters long|\n",
    "|count|astring.count(item)|returns the number of occurences of item in astring |\n",
    "|ljust|astring.ljust(w)|returns astring left justified in a field of width w|\n",
    "|rjust|astring.rjust(w)|returns astring right justified in a field of width w|\n",
    "|upper|astring.upper()|returns astring in all uppercase |\n",
    "|lower|astring.lower()|returns astring in all lowercase |\n",
    "|index|astring.index(item)|returns the index of the first occurence of item in astring or an error if not found|\n",
    "|find|astring.find(item)|returns the index of the first occurence of item in astring or -1  if not found|\n",
    "|replace|astring.replace(old,new)|replaces all occurences of old substrings with new substring in astring|\n"
   ]
  },
  {
   "cell_type": "code",
   "execution_count": 25,
   "metadata": {},
   "outputs": [
    {
     "name": "stdout",
     "output_type": "stream",
     "text": [
      "     John Smith     \n",
      "John Smith          \n",
      "          John Smith\n"
     ]
    }
   ],
   "source": [
    "print(name.center(20))\n",
    "print(name.ljust(20))\n",
    "print(name.rjust(20))"
   ]
  },
  {
   "cell_type": "markdown",
   "metadata": {},
   "source": [
    "## Character Functions\n",
    "|Method|Use|Explanation|\n",
    "|----|----|----|\n",
    "|ord|ord(ch)|converts a character to a number|\n",
    "|chr|chr(number)|converts a numeber to a character|\n",
    "|str|str(number)|converts a number to its string form|\n",
    "\n",
    "Note that the mapping between a character and a number is defined  by [American Standard Code for Information Interchange (ASCII)](https://en.wikipedia.org/wiki/ASCII)\n",
    "\n",
    "ord stands for ordinal"
   ]
  },
  {
   "cell_type": "code",
   "execution_count": null,
   "metadata": {},
   "outputs": [],
   "source": [
    "ord('a')\n",
    "chr(97)\n",
    "str(1024)"
   ]
  },
  {
   "cell_type": "markdown",
   "metadata": {},
   "source": [
    "## Encoding and Decoding Messages\n",
    "### Transposition cipher\n",
    "+ ![](../Resources/ch3-encryption.png)\n",
    "+ seperate the message into two groups\n",
    "+ the first group composed of the even-numbered characters\n",
    "+ the second group composed of the odd-numbered characters\n",
    "+ return first_group + second_group\n",
    "\n",
    "\n",
    "Q: Can we return second_group + first_group? Why?"
   ]
  },
  {
   "cell_type": "code",
   "execution_count": 16,
   "metadata": {},
   "outputs": [],
   "source": [
    "def scramble2Encrypt(plainText):\n",
    "    \n",
    "    return ciphertext"
   ]
  },
  {
   "cell_type": "code",
   "execution_count": 17,
   "metadata": {},
   "outputs": [],
   "source": [
    "def scramble2Decrypt(ciphertext):\n",
    "    \n",
    "    return plainText"
   ]
  },
  {
   "cell_type": "markdown",
   "metadata": {},
   "source": [
    "### asking for input\n",
    "### msg = input('Enter a message to encrypt')"
   ]
  },
  {
   "cell_type": "code",
   "execution_count": 1,
   "metadata": {},
   "outputs": [],
   "source": [
    "def encryptMessage():\n",
    "    # use input function to ask for input here\n",
    "    \n",
    "    # call scramble2Encrypt() function to encrypt the msg\n",
    "    \n",
    "    # print the encrypted msg\n",
    "    print('The encrypted message is: ', )"
   ]
  },
  {
   "cell_type": "code",
   "execution_count": 6,
   "metadata": {},
   "outputs": [],
   "source": [
    "### how to get an integer input???\n",
    "### msg_str = input('Enter a message to encrypt')\n",
    "### msg_int =  int(msg_str)"
   ]
  },
  {
   "cell_type": "code",
   "execution_count": null,
   "metadata": {},
   "outputs": [],
   "source": []
  },
  {
   "cell_type": "markdown",
   "metadata": {},
   "source": [
    "## [Caesar Encryption](https://en.wikipedia.org/wiki/Caesar_cipher)"
   ]
  },
  {
   "cell_type": "code",
   "execution_count": 21,
   "metadata": {},
   "outputs": [],
   "source": [
    "def CaesarEncrypt(n):\n",
    "    \n",
    "    msg = input('Enter a message to encrypt: ')\n",
    "    \n",
    "    ciphertext = \"\"\n",
    "    \n",
    "    for ch in msg:\n",
    "        if 'a'<=ch<='z':\n",
    "            index = ord(ch) - ord('a')\n",
    "            index = (index + n)%26\n",
    "            new_ch = chr(index + ord('a'))\n",
    "        elif 'A'<=ch<='Z':\n",
    "            pass\n",
    "        else:\n",
    "            new_ch = ch\n",
    "            \n",
    "        ciphertext = ciphertext + new_ch\n",
    "    \n",
    "    return ciphertext"
   ]
  },
  {
   "cell_type": "code",
   "execution_count": null,
   "metadata": {},
   "outputs": [],
   "source": []
  },
  {
   "cell_type": "code",
   "execution_count": null,
   "metadata": {},
   "outputs": [],
   "source": []
  }
 ],
 "metadata": {
  "kernelspec": {
   "display_name": "csci195",
   "language": "python",
   "name": "csci195"
  },
  "language_info": {
   "codemirror_mode": {
    "name": "ipython",
    "version": 3
   },
   "file_extension": ".py",
   "mimetype": "text/x-python",
   "name": "python",
   "nbconvert_exporter": "python",
   "pygments_lexer": "ipython3",
   "version": "3.6.6"
  }
 },
 "nbformat": 4,
 "nbformat_minor": 2
}
