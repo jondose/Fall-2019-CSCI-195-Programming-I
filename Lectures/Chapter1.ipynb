{
 "cells": [
  {
   "cell_type": "markdown",
   "metadata": {
    "colab_type": "text",
    "id": "rIfNirBcN6Z_"
   },
   "source": [
    "# CSCI 195 Fall 2019\n",
    "## Chapter 1\n",
    "## Dr. Ning Zhang"
   ]
  },
  {
   "cell_type": "markdown",
   "metadata": {
    "colab_type": "text",
    "id": "b5TGv19dPkwR"
   },
   "source": [
    "#  (08/21/2019 Lecture 1)\n",
    "## Part 1: [Syllabus](https://zhangningsau.github.io/CSCI195/Fall2019/Syllabus.html)"
   ]
  },
  {
   "cell_type": "markdown",
   "metadata": {
    "colab_type": "text",
    "id": "u4dZiKe3QZe2"
   },
   "source": [
    "## Part 2: Preface\n",
    "### Opinions I like\n",
    "1. Competence only comes with practice, lots and lots of practice.\n",
    "2. Computer science deals with people who have problems to solve, and with algorithms (and data structures), they can find the solutions to these problems.\n",
    "<p align=\"center\"> <b>Programs = algorithms + data structures</b></p>\n",
    "3. Problem solving > language fetures in this text\n",
    "\n",
    "### Chapter organization\n",
    "1. Chapters 1 -- 5 : Python data types\n",
    "2. Chapters 6 -- 9 : basic programming concepts, problem-solving patterns, internal machanisms of Python\n",
    "3. Chapters 10 -- 13: Object-oriented programming (OOP)\n",
    "\n",
    "| Chapter      | Problem | Key CS Concepts|\n",
    "| ----------- | ----------- |-----------|\n",
    "| Introduction      | Drawing polygons and approximating a circle       |Numeric data types, assignment statement, using turtle objects,  loops, functions |\n",
    "| $\\pi$thon  | Various methods for approximating $\\pi$        |Accumulator pattern, simple selection statements, Boolean expressions, functions that return values, **math** module, **random** module|\n",
    "|||\n",
    "|||\n",
    "|||\n",
    "|||\n",
    "|||\n",
    "|||\n",
    "\n"
   ]
  },
  {
   "cell_type": "markdown",
   "metadata": {},
   "source": [
    "## 08/23/2019 Lecture 2"
   ]
  },
  {
   "cell_type": "markdown",
   "metadata": {},
   "source": [
    "## If you are interested in data structures and algorithms, you may go to [LeetCode](www.leetcode.com), find the algorithms section.\n",
    "## If you want to have a job in some big company such as google, here is what you need\n",
    "## [coding interview university](https://github.com/jwasham/coding-interview-university)"
   ]
  },
  {
   "cell_type": "markdown",
   "metadata": {
    "colab_type": "text",
    "id": "KofQWkJ1YLnF"
   },
   "source": [
    "## Chapter 1: Introduction\n",
    "### Computer\n",
    "[wikipedia](https://en.wikipedia.org/wiki/Computer)\n",
    "### Computer Science\n",
    "[wikepedia](https://en.wikipedia.org/wiki/Computer_science)\n",
    "\n",
    "**CS is the study of algorithms.**\n",
    "\n",
    "**CS is about problem solving and computional process.**\n",
    "\n",
    "**Problems -> Solutions -> Programs**\n",
    "\n",
    "[Linus Torvalds](https://en.wikipedia.org/wiki/Linus_Torvalds): Well, so this is kind of cliché in technology, the whole Tesla versus Edison, where Tesla is seen as the visionary scientist and crazy idea man. And people love Tesla. I mean, there are people who name their companies after him.\n",
    "\n",
    "The other person there is Edison, who is actually often vilified for being kind of pedestrian and is — I mean, his most famous quote is, \"Genius is one percent inspiration and 99 percent perspiration.\" And I'm in the Edison camp, even if people don't always like him. Because if you actually compare the two, Tesla has kind of this mind grab these days, but who actually changed the world? Edison may not have been a nice person, he did a lot of things — he was maybe not so intellectual, not so visionary. But I think **I'm more of an Edison than a Tesla.**\n",
    "\n",
    "### Computers vs. Human beings\n",
    "pros and cons for each side.\n",
    "\n",
    "### Why CS?\n",
    "+ Applications of CS\n",
    "+ You will\n",
    "    1. be able to apply new problem-saving skills\n",
    "    2. learn to apply logic\n",
    "    3. learn about process\n",
    "    4. understand and apply abstraction\n",
    "    5.  learn to think and communicate more clearly\n",
    "    \n",
    "\n",
    "### Problem-Solving Strategies\n",
    "\n",
    "1.**Strategy**\n",
    " + a high-level idea for finding a solution\n",
    "\n",
    "2.**Tactics**\n",
    " + Methods or patterns that works in many different settings\n",
    "\n",
    "3.**Tools**\n",
    " + Specific tricks and techniques that used in specific situations\n",
    "\n",
    "Example: Google Map\n",
    "\n",
    "### Python overview\n"
   ]
  },
  {
   "cell_type": "markdown",
   "metadata": {},
   "source": [
    "## Python history\n",
    "[Python is eating the world](https://www.zdnet.com/article/python-is-eating-the-world-how-one-developers-side-project-became-the-hottest-programming-language-on-the-planet/)\n",
    "![Name comes from](https://m.media-amazon.com/images/M/MV5BOTFmYTc3ZWEtNTYxNi00OTA4LTk2NjEtNTI2MTJlNzkyMDdlXkEyXkFqcGdeQWpybA@@._V1_UX477_CR0,0,477,268_AL_.jpg)\n",
    "\n",
    "## [Python.org](https://www.python.org/)\n",
    "\n",
    "## [Python GitHub](https://github.com/python)"
   ]
  },
  {
   "cell_type": "markdown",
   "metadata": {},
   "source": [
    "# Lecture 3 08/26/2019"
   ]
  },
  {
   "cell_type": "markdown",
   "metadata": {},
   "source": [
    "## install Python directly\n",
    "\n",
    "### for windows\n",
    "1. Go to [Python.org](https://www.python.org/downloads/)\n",
    "2. Download the version compatible with your comupter (I will use Python 3.7.4 in this class)\n",
    "3. Double-click the downloaded file and follow the instructions, do not forget add to PATH (there is a checkbox)\n",
    "4. Windows+R, type \"cmd\" to open the command line\n",
    "5. Type python to check if Python has beed installed on your computer and the version is correct.\n",
    "\n",
    "### for mac\n",
    "[Tutorial](https://wsvincent.com/install-python3-mac/)\n",
    "\n",
    "\n"
   ]
  },
  {
   "cell_type": "markdown",
   "metadata": {},
   "source": [
    "### Use pyenv to install python**(recommonded)\n",
    "#### for windows\n",
    "1. install pyenv-win by downloading zip file \n",
    "[Tutorial](https://github.com/pyenv-win/pyenv-win)\n",
    "2. install multiple versions of python (we only use the latest version)\n",
    "See **How it works** section in the pyenv [Tutorial](https://github.com/pyenv-win/pyenv-win)\n",
    "\n",
    "#### for mac\n",
    "1. install pyenv using homebrew\n",
    "[Tutorial](https://github.com/pyenv/pyenv)\n",
    "\n",
    "2. install multiple versions of python \n"
   ]
  },
  {
   "cell_type": "markdown",
   "metadata": {},
   "source": [
    "## install virtualenv\n",
    "\n",
    "[Tutoral](https://virtualenv.pypa.io/en/stable/)\n",
    "\n",
    "\n",
    "## install Jupyter notebook##\n",
    "    \n",
    "   [Tutorial](https://jupyter.org/install)\n",
    "    \n",
    "   Note that:  create a virtual enviorment first, then install jupyter in that enviorment.\n",
    "\n",
    "## Add Virtual Environment to Jupyter Notebook\n",
    "\n",
    "    Jupyter Notebook makes sure that the IPython kernel is available, but you have to manually add a kernel with a different version of Python or a virtual environment. \n",
    "\n",
    "        source bin/activate \n",
    "\n",
    "        python -m ipykernel install --name kernel_name\n",
    "\n",
    "        source deactivate\n",
    "\n",
    "    if you want to delete some kernel later, do this:\n",
    "\n",
    "        jupyter kernelspec list (to show all the existing kernels)\n",
    "\n",
    "        sudo jupyter kernelspec uninstall kernel_name (to delete the kernel)"
   ]
  },
  {
   "cell_type": "markdown",
   "metadata": {
    "colab_type": "text",
    "id": "AKBrGYVHsVKD"
   },
   "source": [
    "### Primitive Elements\n",
    "**Everything in Python is an object**\n",
    "\n",
    "Objects are classified into **types**\n",
    "1. Interger numbers\n",
    "2. Floating point numbers\n",
    "3. Complex numbers"
   ]
  },
  {
   "cell_type": "markdown",
   "metadata": {},
   "source": [
    "## We first run the following codes in python interpreter\n",
    "### 1. in windows, windows+R -> type cmd -> Enter to open the command window\n",
    "###    in mac,   use spotlight search to find the \"Terminal\"\n",
    "### 2. type python, then run the codes one by one\n",
    "## Then exit() to quit, use text editor to create a python script named test.py, \n",
    "## save the file, type \"python test.py\""
   ]
  },
  {
   "cell_type": "markdown",
   "metadata": {},
   "source": [
    "# Lecture 4 08/28/2019"
   ]
  },
  {
   "cell_type": "code",
   "execution_count": 1,
   "metadata": {
    "colab": {},
    "colab_type": "code",
    "id": "7di64xbdv44j"
   },
   "outputs": [
    {
     "data": {
      "text/plain": [
       "int"
      ]
     },
     "execution_count": 1,
     "metadata": {},
     "output_type": "execute_result"
    }
   ],
   "source": [
    "# integer numbers \n",
    "# Note that: we use # to comment one line in Python\n",
    "# Question:  How to comment a block?\n",
    "\n",
    "2+2 # addition\n",
    "8-9 # subtraction\n",
    "7*9 # multiplication\n",
    "13/2 # division\n",
    "13//2 ## what is the difference from the above line?\n",
    "13%2 ## mod or find the remainder\n",
    "\n",
    "# find the type\n",
    "\n",
    "type(9)"
   ]
  },
  {
   "cell_type": "code",
   "execution_count": 3,
   "metadata": {
    "colab": {},
    "colab_type": "code",
    "id": "OBrIFhPTyTE-"
   },
   "outputs": [
    {
     "name": "stdout",
     "output_type": "stream",
     "text": [
      "4.0\n"
     ]
    },
    {
     "data": {
      "text/plain": [
       "133001.0"
      ]
     },
     "execution_count": 3,
     "metadata": {},
     "output_type": "execute_result"
    }
   ],
   "source": [
    "# Floating-point numbers\n",
    "# Remember floats sometimes are just approximation of what you called real numbers in math class. \n",
    "\n",
    "print(2.0*2.0)\n",
    "\n",
    "2+2.0\n",
    "\n",
    "15/2.1\n",
    "15//2.1\n",
    "\n",
    "2.0**3\n",
    "\n",
    "2.0**10\n",
    "\n",
    "2.0**500\n",
    "\n",
    "1.33e5 + 1.0\n",
    "\n",
    "\n",
    "\n"
   ]
  },
  {
   "cell_type": "code",
   "execution_count": null,
   "metadata": {},
   "outputs": [],
   "source": [
    "type(2*2)\n",
    "type(2.0*2)\n",
    "2.0*500 == 2**500"
   ]
  },
  {
   "cell_type": "code",
   "execution_count": null,
   "metadata": {},
   "outputs": [],
   "source": [
    "## Complex numbers\n",
    "## we use j as the imaginary part of the complex number\n",
    "5 + 4j\n",
    "\n",
    "5 + 4j + 3\n",
    "5 + 4j + 3j\n"
   ]
  },
  {
   "cell_type": "code",
   "execution_count": null,
   "metadata": {},
   "outputs": [],
   "source": [
    "# convert int to float\n",
    "float(2)\n",
    "# convert float to int\n",
    "int(2.0)"
   ]
  },
  {
   "cell_type": "markdown",
   "metadata": {},
   "source": [
    "### print out the results"
   ]
  },
  {
   "cell_type": "code",
   "execution_count": 1,
   "metadata": {},
   "outputs": [
    {
     "name": "stdout",
     "output_type": "stream",
     "text": [
      "3\n"
     ]
    }
   ],
   "source": [
    "print(1+2)"
   ]
  },
  {
   "cell_type": "markdown",
   "metadata": {},
   "source": [
    "### Naming objects or assignment statement\n",
    "**name/variable = python expression**\n",
    "\n",
    "name space vs. object space\n",
    "![name space vs. object space](https://d2h0cx97tjks2p.cloudfront.net/blogs/wp-content/uploads/sites/2/2018/01/Efficient.png)\n",
    "\n",
    "In this class, we follow the **[Google Python Style Guide](http://google.github.io/styleguide/pyguide.html)**, go to this website and search for the style guide for naming by searching the key word \"naming\".\n",
    "\n",
    "Why?\n",
    "\n",
    "Because a programmer spends only 20% of his/her time typing but 80% of the time reviewing either your code or others.\n",
    "\n",
    "Even though the style of naming is like **baseArea** in our text, you should use **base_area** in your homework, tests or final.\n",
    "\n",
    "Naming of variables should be\n",
    "\n",
    "1.**valid in syntax**\n",
    "   + Name can include any letter, number or an _(underscore)\n",
    "   + Name must start with a letter or an _\n",
    "   + Name can not be any of the [Python keywords](https://www.w3schools.com/python/python_ref_keywords.asp)\n",
    "\n",
    "2.**meaningful**\n",
    "\n",
    "3.**unified**(follow one python programming style all the time)"
   ]
  },
  {
   "cell_type": "code",
   "execution_count": null,
   "metadata": {},
   "outputs": [],
   "source": [
    "# example: volume of a cylinder\n",
    "# radius of the base is 8 cm\n",
    "# height is 16 cm\n",
    "# Q: what is the volume?\n",
    "#  cylinder_volume = base_area * height"
   ]
  },
  {
   "cell_type": "code",
   "execution_count": null,
   "metadata": {},
   "outputs": [],
   "source": [
    "# discussion: what happens if we run\n",
    "a = 2\n",
    "a = 2 + 1\n",
    "b = 2\n",
    "# You can use function \"id\" to locate a variable in memory"
   ]
  },
  {
   "cell_type": "code",
   "execution_count": null,
   "metadata": {},
   "outputs": [],
   "source": [
    "# discussion: what happens if we run\n",
    "a = 2\n",
    "b = 2\n",
    "a = 3"
   ]
  },
  {
   "cell_type": "code",
   "execution_count": null,
   "metadata": {},
   "outputs": [],
   "source": [
    "# exercise\n",
    "_abc123\n",
    "123abc\n",
    "abc123\n",
    "_123"
   ]
  },
  {
   "cell_type": "markdown",
   "metadata": {},
   "source": [
    "# Lecture 5 08/30/2019"
   ]
  },
  {
   "cell_type": "markdown",
   "metadata": {},
   "source": [
    "## Abstraction\n",
    "+ a concept or idea not associated with any specific instance\n",
    "+ blackbox ![blackbox](https://encrypted-tbn0.gstatic.com/images?q=tbn:ANd9GcT7HMM-UgGZGu4J0Tx0JJteFbaNP_4zkT0Ra_7iJwIV4IsgLxnw)\n",
    "\n",
    "Why?\n",
    "\n",
    "**[No Reinventing the wheel](https://en.wikipedia.org/wiki/Reinventing_the_wheel)**\n",
    "\n",
    "### Example: \n",
    "1. [sqrt() by Newton-Raphson method](https://en.wikipedia.org/wiki/Methods_of_computing_square_roots)\n",
    "2. [Carmack Fast Inverse Square root](https://en.wikipedia.org/wiki/Fast_inverse_square_root)"
   ]
  },
  {
   "cell_type": "markdown",
   "metadata": {},
   "source": [
    "### indentation\n",
    "#### [section 2.8.1 or search for indentation](https://docs.python.org/3/reference/lexical_analysis.html?highlight=indentation)"
   ]
  },
  {
   "cell_type": "code",
   "execution_count": 4,
   "metadata": {},
   "outputs": [],
   "source": [
    "# example: define a blockbox that can caculate the volumne of any cylinder \n",
    "#       (this blackbox, we call it a function, is not associated with any specific values of the radius or height)\n",
    "\n",
    "def calculate_cylinder_volume(radius, height):\n",
    "    pi = 3.141926\n",
    "    base_area = pi*radius**2\n",
    "    volume = base_area*height\n",
    "    return volume\n"
   ]
  },
  {
   "cell_type": "code",
   "execution_count": 7,
   "metadata": {},
   "outputs": [
    {
     "name": "stdout",
     "output_type": "stream",
     "text": [
      "91.61856216000001\n"
     ]
    }
   ],
   "source": [
    "# call the function\n",
    "volume = calculate_cylinder_volume(1.8, 9)\n",
    "print(volume)"
   ]
  },
  {
   "cell_type": "markdown",
   "metadata": {},
   "source": []
  },
  {
   "cell_type": "markdown",
   "metadata": {},
   "source": [
    "### Modules in Python\n",
    "\n",
    "Example: [Turtle Module](https://docs.python.org/3/library/turtle.html)"
   ]
  },
  {
   "cell_type": "code",
   "execution_count": 19,
   "metadata": {},
   "outputs": [
    {
     "data": {
      "text/plain": [
       "<module 'turtle' from 'c:\\\\users\\\\nz0735874\\\\appdata\\\\local\\\\programs\\\\python\\\\python37-32\\\\lib\\\\turtle.py'>"
      ]
     },
     "execution_count": 19,
     "metadata": {},
     "output_type": "execute_result"
    }
   ],
   "source": [
    "# load the module\n",
    "import turtle \n",
    "# when you import turtle, an object will be created in Python with\n",
    "# an identity\n",
    "id(turtle)\n",
    "# a type\n",
    "type(turtle)\n",
    "# a value, to be honest, I do not know how to find this value\n",
    "turtle"
   ]
  },
  {
   "cell_type": "code",
   "execution_count": 21,
   "metadata": {},
   "outputs": [],
   "source": [
    "gertrude = turtle.Turtle() # Turtle() is the constructor/construction method, we use it to create a new object/instance of turtle.Turtle()\n"
   ]
  },
  {
   "cell_type": "code",
   "execution_count": 27,
   "metadata": {},
   "outputs": [
    {
     "data": {
      "text/plain": [
       "<turtle.Turtle at 0x405a5d0>"
      ]
     },
     "execution_count": 27,
     "metadata": {},
     "output_type": "execute_result"
    }
   ],
   "source": [
    "gertrude\n",
    "# gertrude is a turtle object, it has some attributes and functions/methods, if you want to call/use one of them\n",
    "# you need to use the .(dot) operator: object_name.function_name(parameter1, parameter2,...)"
   ]
  },
  {
   "cell_type": "code",
   "execution_count": 23,
   "metadata": {},
   "outputs": [],
   "source": [
    "gertrude.forward(100)"
   ]
  },
  {
   "cell_type": "code",
   "execution_count": 24,
   "metadata": {},
   "outputs": [
    {
     "data": {
      "text/plain": [
       "(100.00,-50.00)"
      ]
     },
     "execution_count": 24,
     "metadata": {},
     "output_type": "execute_result"
    }
   ],
   "source": [
    "gertrude.right(90)\n",
    "gertrude.forward(50)\n",
    "gertrude.position()"
   ]
  },
  {
   "cell_type": "code",
   "execution_count": 26,
   "metadata": {},
   "outputs": [
    {
     "data": {
      "text/plain": [
       "270.0"
      ]
     },
     "execution_count": 26,
     "metadata": {},
     "output_type": "execute_result"
    }
   ],
   "source": [
    "gertrude.heading()"
   ]
  },
  {
   "cell_type": "code",
   "execution_count": 30,
   "metadata": {},
   "outputs": [],
   "source": [
    "#Practice: define a function that a turtle draw a square\n",
    "# "
   ]
  },
  {
   "cell_type": "markdown",
   "metadata": {},
   "source": [
    "### Repetition: for loop\n",
    "We use **for loop** to repeat a block multiple times\n"
   ]
  },
  {
   "cell_type": "code",
   "execution_count": 29,
   "metadata": {},
   "outputs": [
    {
     "name": "stdout",
     "output_type": "stream",
     "text": [
      "Ning Zhang\n",
      "Ning Zhang\n",
      "Ning Zhang\n",
      "Ning Zhang\n",
      "Ning Zhang\n",
      "Ning Zhang\n",
      "Ning Zhang\n",
      "Ning Zhang\n",
      "Ning Zhang\n",
      "Ning Zhang\n"
     ]
    }
   ],
   "source": [
    "# example: print my name 10 times\n",
    "my_name = 'Ning Zhang'\n",
    "for i in range(10):\n",
    "    print(my_name)"
   ]
  },
  {
   "cell_type": "code",
   "execution_count": 31,
   "metadata": {},
   "outputs": [],
   "source": [
    "# define a function to draw a polygon\n",
    "def draw_polygon(my_turtle, side_length, num_of_sides):\n",
    "    "
   ]
  },
  {
   "cell_type": "code",
   "execution_count": 32,
   "metadata": {},
   "outputs": [],
   "source": [
    "# define a function to draw a circle\n",
    "# hint: a polygon with infite number of sides is a circle."
   ]
  },
  {
   "cell_type": "markdown",
   "metadata": {},
   "source": [
    "![hint Zu Chongzhi's calculation of pi ](https://i.imgur.com/HuA2c3m.jpg)"
   ]
  },
  {
   "cell_type": "code",
   "execution_count": null,
   "metadata": {},
   "outputs": [],
   "source": [
    "def draw_circle(my_turtle, radius):\n",
    "    # find the side_length and num_of_sides, then call draw_polygon function"
   ]
  },
  {
   "cell_type": "markdown",
   "metadata": {},
   "source": [
    "# [Homework 1](https://github.com/ZhangNingSAU/Fall-2019-CSCI-195-Programming-I/blob/master/Homework/HW1.md)"
   ]
  },
  {
   "cell_type": "code",
   "execution_count": null,
   "metadata": {},
   "outputs": [],
   "source": []
  }
 ],
 "metadata": {
  "colab": {
   "collapsed_sections": [],
   "name": "Chapter1.ipynb",
   "provenance": [],
   "version": "0.3.2"
  },
  "kernelspec": {
   "display_name": "csci195",
   "language": "python",
   "name": "csci195"
  },
  "language_info": {
   "codemirror_mode": {
    "name": "ipython",
    "version": 3
   },
   "file_extension": ".py",
   "mimetype": "text/x-python",
   "name": "python",
   "nbconvert_exporter": "python",
   "pygments_lexer": "ipython3",
   "version": "3.6.6"
  }
 },
 "nbformat": 4,
 "nbformat_minor": 1
}
