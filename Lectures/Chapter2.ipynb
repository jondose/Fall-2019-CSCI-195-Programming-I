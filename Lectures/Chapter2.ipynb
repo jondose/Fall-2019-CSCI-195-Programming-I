{
 "cells": [
  {
   "cell_type": "markdown",
   "metadata": {},
   "source": [
    "# CSCI 195 Fall 2019\n",
    "# Chapter 2: $\\pi$thon"
   ]
  },
  {
   "cell_type": "markdown",
   "metadata": {},
   "source": [
    "## objectives\n",
    "+ numeric expressions, variables, assignments\n",
    "+ accumulator pattern\n",
    "+ math library\n",
    "+ iteration patterns\n",
    "+ selection patterns\n",
    "+ random numbers"
   ]
  },
  {
   "cell_type": "markdown",
   "metadata": {},
   "source": [
    "## What is Pi/$\\pi$?\n",
    "+ $\\pi = \\dfrac{C}{d}$,\n",
    "where $C$ is the circumference of a circle, $d$ is the diamter of a circle.\n",
    "+ $\\pi = 3.14$ or $\\pi = 3.1415926$ works faily well.\n",
    "+ the exact value of $\\pi$ is not easy to find.\n",
    "+ $\\pi$ is a irrational number/floating-point number with an infinite, nonrepeating pattern of decimal digits.\n",
    "+ $\\pi$ can be approximated by:"
   ]
  },
  {
   "cell_type": "code",
   "execution_count": null,
   "metadata": {},
   "outputs": [],
   "source": [
    "22/7\n",
    "\n",
    "355/113\n",
    "\n",
    "## recall that we use import module_name to gain access to a Python module\n",
    "import math\n",
    "9801/(2206*math.sqrt(2))\n",
    "\n",
    "\n"
   ]
  },
  {
   "cell_type": "code",
   "execution_count": null,
   "metadata": {},
   "outputs": [],
   "source": [
    "## once the math module is imported, you can use dir(math) to display all the variables and functions in math module\n",
    "dir(math)"
   ]
  },
  {
   "cell_type": "code",
   "execution_count": null,
   "metadata": {},
   "outputs": [],
   "source": [
    "\n",
    "## or help(math) to list more details\n",
    "help(math)"
   ]
  },
  {
   "cell_type": "markdown",
   "metadata": {},
   "source": [
    "### Exercises\n",
    "1. Run the help command as follows: help('turtle') (do not import turtle module)\n",
    "2. Run the help command as follows: help(turtle), what is the difference? (do not import turtle module)\n",
    "3. import turtle and repeat exercise 2\n",
    "4. Run the help command on the math.sin function\n",
    "5. Explore the random module using help facility. What does the randrange function do? What does the randint runction do?"
   ]
  },
  {
   "cell_type": "markdown",
   "metadata": {},
   "source": [
    "## The Archimedes Approach\n",
    "+ Archimedes makes use of a many-side polygon to approximate the circumference of a circle.\n",
    "\n",
    "![](https://i.ytimg.com/vi/_rJdkhlWZVQ/hqdefault.jpg)\n",
    "\n",
    "1. C = 2$\\pi$r or C = 2$\\pi$ if we let $r=1$. Then, $\\pi = \\dfrac{C}{2}$\n",
    "2. Suppose n-side polygon, $C=n\\times s$, where $s$ is the length of each side.\n",
    "3. $sin A= \\dfrac{\\frac{S}{2}}{r} = \\dfrac{S}{2}$, then $S = sin A \\times 2.$\n"
   ]
  },
  {
   "cell_type": "code",
   "execution_count": 5,
   "metadata": {},
   "outputs": [],
   "source": [
    "## suppose we are going to use a 8-side polygon to approximate $\\pi$. \n",
    "## code here"
   ]
  },
  {
   "cell_type": "markdown",
   "metadata": {},
   "source": [
    "def function_name(para1,para2):\n",
    "\n",
    "    statement1\n",
    "    statement2\n",
    "    \n",
    "    ...\n",
    "    \n",
    "    return expression"
   ]
  },
  {
   "cell_type": "code",
   "execution_count": null,
   "metadata": {},
   "outputs": [],
   "source": [
    "## develop a function here\n"
   ]
  },
  {
   "cell_type": "markdown",
   "metadata": {},
   "source": [
    "## for repeatation\n",
    "+ for in range(start, stop, step)\n",
    "+ you can use help(range) to see details\n",
    "+ step is optional, step=1 by default\n",
    "+ example: range(0,100,10)"
   ]
  },
  {
   "cell_type": "markdown",
   "metadata": {},
   "source": [
    "### exercise: 5. print $\\pi$ for n = 8,16,....,99"
   ]
  },
  {
   "cell_type": "markdown",
   "metadata": {},
   "source": [
    "### exercise:\n",
    "### 6. repeat the previous exercise, and also print the difference between the $\\pi$ you calculate and math.pi\n",
    "### 7. modify the archimedes function to take the radius as a parameter, can you get a better answer more quickly using a larger circle?"
   ]
  },
  {
   "cell_type": "markdown",
   "metadata": {},
   "source": [
    "---------\n",
    "## calculate $\\pi$  by the accumulator pattern\n",
    "### Leibniz Formula\n",
    "### $\\dfrac{\\pi}{4} = \\dfrac{1}{1} - \\dfrac{1}{3}+\\dfrac{1}{5}-\\dfrac{1}{7}+\\dfrac{1}{9}\\ldots $"
   ]
  },
  {
   "cell_type": "code",
   "execution_count": 8,
   "metadata": {},
   "outputs": [],
   "source": [
    "# example of the accumulator pattern: sum of 1+2+3+...+99+100"
   ]
  },
  {
   "cell_type": "markdown",
   "metadata": {},
   "source": [
    "---------\n",
    "### exercise:\n",
    "### sum of the first 100 even numbers"
   ]
  },
  {
   "cell_type": "code",
   "execution_count": null,
   "metadata": {},
   "outputs": [],
   "source": []
  },
  {
   "cell_type": "markdown",
   "metadata": {},
   "source": [
    "----\n",
    "### Define the function to calculate $\\pi$ by the Leibniz formula"
   ]
  },
  {
   "cell_type": "code",
   "execution_count": null,
   "metadata": {},
   "outputs": [],
   "source": []
  },
  {
   "cell_type": "markdown",
   "metadata": {},
   "source": [
    "----------\n",
    "### Define the function to calculate $\\pi$ by the Wallis formula\n",
    "### $\\dfrac{\\pi}{2} = \\dfrac{2}{1}\\times\\dfrac{2}{3}\\times\\dfrac{4}{3}\\times\\dfrac{4}{5}\\times\\dfrac{6}{5}\\times\\dfrac{6}{7}\\times\\dfrac{8}{7}\\times\\ldots$"
   ]
  },
  {
   "cell_type": "code",
   "execution_count": 9,
   "metadata": {},
   "outputs": [],
   "source": [
    "## define Wallis function here "
   ]
  },
  {
   "cell_type": "markdown",
   "metadata": {},
   "source": [
    "-------------------\n",
    "## A Monte Carlo Simulation\n",
    "![](https://helloacm.com/wp-content/uploads/2015/11/Monte-Carlo01.jpg)\n",
    "\n",
    "### Question:  We can randomly generate a point in Quadrant I,  how can we find out this point is in the circle or not?"
   ]
  },
  {
   "cell_type": "code",
   "execution_count": null,
   "metadata": {},
   "outputs": [],
   "source": [
    "## we can use random function in random module to randomly generate a floating-point number between 0 and 1.\n",
    "import random\n",
    "random.random()"
   ]
  },
  {
   "cell_type": "markdown",
   "metadata": {},
   "source": [
    "### Boolean expressions\n",
    "\n",
    "|Relational Operator| Meaning|\n",
    "|----|----|\n",
    "|<|less than|\n",
    "|<=|less than or equal to|\n",
    "|>|greater than|\n",
    "|>=|greater than or equal to|\n",
    "|==|equal|\n",
    "|!=|not equal|\n",
    "\n",
    "### Compound Boolean expressions by logical operators `and`, `or`, `not`\n",
    "\n",
    "|compound boolean expression|result|\n",
    "|----|----|\n",
    "|x and y|If x is False, return x; otherwise return y.|\n",
    "|x or y|If x is False, return y; otherwise return x.|\n",
    "|not x| If x is False, return True; otherwise return False.|\n",
    "\n",
    "#### and expression\n",
    "|and expression|result|\n",
    "|----|----|\n",
    "|True and True|True|\n",
    "|True and False|False|\n",
    "|False and True|False|\n",
    "|False and False|False|\n",
    "\n",
    "#### or expression\n",
    "|or expression|result|\n",
    "|----|----|\n",
    "|True or True|True|\n",
    "|True or False|True|\n",
    "|False or True|True|\n",
    "|False or False|False|\n",
    "\n",
    "#### not expression\n",
    "|not expression|result|\n",
    "|----|----|\n",
    "|not True|True|\n",
    "|not False|True|\n"
   ]
  },
  {
   "cell_type": "markdown",
   "metadata": {},
   "source": [
    "---------\n",
    "## selection statements\n",
    "\n",
    "### if-else\n",
    "~~~~\n",
    "if <condition>:\n",
    "    <statements>\n",
    "else:\n",
    "    <statements>\n",
    "~~~~\n",
    "\n",
    "![](https://media.geeksforgeeks.org/wp-content/uploads/decision-making-c-2.png)\n",
    "\n",
    "\n",
    "### if\n",
    "~~~~\n",
    "if <condition>:\n",
    "    <statements>\n",
    "~~~~\n",
    "\n",
    "### nested selection\n",
    "~~~~\n",
    "if <condition>:   \n",
    "    if <condition>:\n",
    "        <statements>\n",
    "    else:\n",
    "        <statements>\n",
    "else:\n",
    "    if <condition>:\n",
    "        <statements>\n",
    "    else:\n",
    "        <statements>\n",
    "~~~~\n",
    "\n",
    "### tail nested selection\n",
    "~~~~\n",
    "if <condition>:    \n",
    "    <statements>\n",
    "else:\n",
    "    if <condition>:\n",
    "        <statements>\n",
    "    else:\n",
    "        <statements>\n",
    "~~~~\n",
    "\n",
    "### if-elif-else:\n",
    "\n",
    "~~~~\n",
    "if <condition>:   \n",
    "    <statements>\n",
    "elif <condition>:  \n",
    "    <statements>   \n",
    "elif <condition>:  \n",
    "    <statements>\n",
    "....\n",
    "else:\n",
    "    <statement>\n",
    "~~~~"
   ]
  },
  {
   "cell_type": "code",
   "execution_count": 10,
   "metadata": {},
   "outputs": [],
   "source": [
    "## define the monte carlo method here to find pi"
   ]
  },
  {
   "cell_type": "code",
   "execution_count": null,
   "metadata": {},
   "outputs": [],
   "source": []
  }
 ],
 "metadata": {
  "kernelspec": {
   "display_name": "csci195",
   "language": "python",
   "name": "csci195"
  },
  "language_info": {
   "codemirror_mode": {
    "name": "ipython",
    "version": 3
   },
   "file_extension": ".py",
   "mimetype": "text/x-python",
   "name": "python",
   "nbconvert_exporter": "python",
   "pygments_lexer": "ipython3",
   "version": "3.6.6"
  }
 },
 "nbformat": 4,
 "nbformat_minor": 2
}
