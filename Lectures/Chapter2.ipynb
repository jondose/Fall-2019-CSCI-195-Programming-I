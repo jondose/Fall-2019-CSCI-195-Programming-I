{
 "cells": [
  {
   "cell_type": "markdown",
   "metadata": {},
   "source": [
    "# CSCI 195 Fall 2019\n",
    "# Chapter 2: $\\pi$thon"
   ]
  },
  {
   "cell_type": "markdown",
   "metadata": {},
   "source": [
    "## objectives\n",
    "+ numeric expressions, variables, assignments\n",
    "+ accumulator pattern\n",
    "+ math library\n",
    "+ iteration patterns\n",
    "+ selection patterns\n",
    "+ random numbers"
   ]
  },
  {
   "cell_type": "markdown",
   "metadata": {},
   "source": [
    "## What is Pi/$\\pi$?\n",
    "+ $\\pi = \\dfrac{C}{d}$,\n",
    "where $C$ is the circumference of a circle, $d$ is the diamter of a circle.\n",
    "+ $\\pi = 3.14$ or $\\pi = 3.1415926$ works faily well.\n",
    "+ the exact value of $\\pi$ is not easy to find.\n",
    "+ $\\pi$ is a irrational number/floating-point number with an infinite, nonrepeating pattern of decimal digits.\n",
    "+ $\\pi$ can be approximated by:"
   ]
  },
  {
   "cell_type": "code",
   "execution_count": 13,
   "metadata": {},
   "outputs": [
    {
     "name": "stdout",
     "output_type": "stream",
     "text": [
      "3.142857142857143\n",
      "3.1415929203539825\n",
      "3.1415927300133055\n"
     ]
    }
   ],
   "source": [
    "print(22/7)\n",
    "\n",
    "print(355/113)\n",
    "\n",
    "## recall that we use import module_name to gain access to a Python module\n",
    "import math\n",
    "print(9801/(2206*math.sqrt(2)))\n"
   ]
  },
  {
   "cell_type": "code",
   "execution_count": 14,
   "metadata": {},
   "outputs": [
    {
     "data": {
      "text/plain": [
       "['__doc__',\n",
       " '__file__',\n",
       " '__loader__',\n",
       " '__name__',\n",
       " '__package__',\n",
       " '__spec__',\n",
       " 'acos',\n",
       " 'acosh',\n",
       " 'asin',\n",
       " 'asinh',\n",
       " 'atan',\n",
       " 'atan2',\n",
       " 'atanh',\n",
       " 'ceil',\n",
       " 'copysign',\n",
       " 'cos',\n",
       " 'cosh',\n",
       " 'degrees',\n",
       " 'e',\n",
       " 'erf',\n",
       " 'erfc',\n",
       " 'exp',\n",
       " 'expm1',\n",
       " 'fabs',\n",
       " 'factorial',\n",
       " 'floor',\n",
       " 'fmod',\n",
       " 'frexp',\n",
       " 'fsum',\n",
       " 'gamma',\n",
       " 'gcd',\n",
       " 'hypot',\n",
       " 'inf',\n",
       " 'isclose',\n",
       " 'isfinite',\n",
       " 'isinf',\n",
       " 'isnan',\n",
       " 'ldexp',\n",
       " 'lgamma',\n",
       " 'log',\n",
       " 'log10',\n",
       " 'log1p',\n",
       " 'log2',\n",
       " 'modf',\n",
       " 'nan',\n",
       " 'pi',\n",
       " 'pow',\n",
       " 'radians',\n",
       " 'sin',\n",
       " 'sinh',\n",
       " 'sqrt',\n",
       " 'tan',\n",
       " 'tanh',\n",
       " 'tau',\n",
       " 'trunc']"
      ]
     },
     "execution_count": 14,
     "metadata": {},
     "output_type": "execute_result"
    }
   ],
   "source": [
    "## once the math module is imported, you can use dir(math) \n",
    "## to display all the variables and functions in math module\n",
    "dir(math)"
   ]
  },
  {
   "cell_type": "code",
   "execution_count": 16,
   "metadata": {},
   "outputs": [
    {
     "name": "stdout",
     "output_type": "stream",
     "text": [
      "Help on module math:\n",
      "\n",
      "NAME\n",
      "    math\n",
      "\n",
      "MODULE REFERENCE\n",
      "    https://docs.python.org/3.6/library/math\n",
      "    \n",
      "    The following documentation is automatically generated from the Python\n",
      "    source files.  It may be incomplete, incorrect or include features that\n",
      "    are considered implementation detail and may vary between Python\n",
      "    implementations.  When in doubt, consult the module reference at the\n",
      "    location listed above.\n",
      "\n",
      "DESCRIPTION\n",
      "    This module is always available.  It provides access to the\n",
      "    mathematical functions defined by the C standard.\n",
      "\n",
      "FUNCTIONS\n",
      "    acos(...)\n",
      "        acos(x)\n",
      "        \n",
      "        Return the arc cosine (measured in radians) of x.\n",
      "    \n",
      "    acosh(...)\n",
      "        acosh(x)\n",
      "        \n",
      "        Return the inverse hyperbolic cosine of x.\n",
      "    \n",
      "    asin(...)\n",
      "        asin(x)\n",
      "        \n",
      "        Return the arc sine (measured in radians) of x.\n",
      "    \n",
      "    asinh(...)\n",
      "        asinh(x)\n",
      "        \n",
      "        Return the inverse hyperbolic sine of x.\n",
      "    \n",
      "    atan(...)\n",
      "        atan(x)\n",
      "        \n",
      "        Return the arc tangent (measured in radians) of x.\n",
      "    \n",
      "    atan2(...)\n",
      "        atan2(y, x)\n",
      "        \n",
      "        Return the arc tangent (measured in radians) of y/x.\n",
      "        Unlike atan(y/x), the signs of both x and y are considered.\n",
      "    \n",
      "    atanh(...)\n",
      "        atanh(x)\n",
      "        \n",
      "        Return the inverse hyperbolic tangent of x.\n",
      "    \n",
      "    ceil(...)\n",
      "        ceil(x)\n",
      "        \n",
      "        Return the ceiling of x as an Integral.\n",
      "        This is the smallest integer >= x.\n",
      "    \n",
      "    copysign(...)\n",
      "        copysign(x, y)\n",
      "        \n",
      "        Return a float with the magnitude (absolute value) of x but the sign \n",
      "        of y. On platforms that support signed zeros, copysign(1.0, -0.0) \n",
      "        returns -1.0.\n",
      "    \n",
      "    cos(...)\n",
      "        cos(x)\n",
      "        \n",
      "        Return the cosine of x (measured in radians).\n",
      "    \n",
      "    cosh(...)\n",
      "        cosh(x)\n",
      "        \n",
      "        Return the hyperbolic cosine of x.\n",
      "    \n",
      "    degrees(...)\n",
      "        degrees(x)\n",
      "        \n",
      "        Convert angle x from radians to degrees.\n",
      "    \n",
      "    erf(...)\n",
      "        erf(x)\n",
      "        \n",
      "        Error function at x.\n",
      "    \n",
      "    erfc(...)\n",
      "        erfc(x)\n",
      "        \n",
      "        Complementary error function at x.\n",
      "    \n",
      "    exp(...)\n",
      "        exp(x)\n",
      "        \n",
      "        Return e raised to the power of x.\n",
      "    \n",
      "    expm1(...)\n",
      "        expm1(x)\n",
      "        \n",
      "        Return exp(x)-1.\n",
      "        This function avoids the loss of precision involved in the direct evaluation of exp(x)-1 for small x.\n",
      "    \n",
      "    fabs(...)\n",
      "        fabs(x)\n",
      "        \n",
      "        Return the absolute value of the float x.\n",
      "    \n",
      "    factorial(...)\n",
      "        factorial(x) -> Integral\n",
      "        \n",
      "        Find x!. Raise a ValueError if x is negative or non-integral.\n",
      "    \n",
      "    floor(...)\n",
      "        floor(x)\n",
      "        \n",
      "        Return the floor of x as an Integral.\n",
      "        This is the largest integer <= x.\n",
      "    \n",
      "    fmod(...)\n",
      "        fmod(x, y)\n",
      "        \n",
      "        Return fmod(x, y), according to platform C.  x % y may differ.\n",
      "    \n",
      "    frexp(...)\n",
      "        frexp(x)\n",
      "        \n",
      "        Return the mantissa and exponent of x, as pair (m, e).\n",
      "        m is a float and e is an int, such that x = m * 2.**e.\n",
      "        If x is 0, m and e are both 0.  Else 0.5 <= abs(m) < 1.0.\n",
      "    \n",
      "    fsum(...)\n",
      "        fsum(iterable)\n",
      "        \n",
      "        Return an accurate floating point sum of values in the iterable.\n",
      "        Assumes IEEE-754 floating point arithmetic.\n",
      "    \n",
      "    gamma(...)\n",
      "        gamma(x)\n",
      "        \n",
      "        Gamma function at x.\n",
      "    \n",
      "    gcd(...)\n",
      "        gcd(x, y) -> int\n",
      "        greatest common divisor of x and y\n",
      "    \n",
      "    hypot(...)\n",
      "        hypot(x, y)\n",
      "        \n",
      "        Return the Euclidean distance, sqrt(x*x + y*y).\n",
      "    \n",
      "    isclose(...)\n",
      "        isclose(a, b, *, rel_tol=1e-09, abs_tol=0.0) -> bool\n",
      "        \n",
      "        Determine whether two floating point numbers are close in value.\n",
      "        \n",
      "           rel_tol\n",
      "               maximum difference for being considered \"close\", relative to the\n",
      "               magnitude of the input values\n",
      "            abs_tol\n",
      "               maximum difference for being considered \"close\", regardless of the\n",
      "               magnitude of the input values\n",
      "        \n",
      "        Return True if a is close in value to b, and False otherwise.\n",
      "        \n",
      "        For the values to be considered close, the difference between them\n",
      "        must be smaller than at least one of the tolerances.\n",
      "        \n",
      "        -inf, inf and NaN behave similarly to the IEEE 754 Standard.  That\n",
      "        is, NaN is not close to anything, even itself.  inf and -inf are\n",
      "        only close to themselves.\n",
      "    \n",
      "    isfinite(...)\n",
      "        isfinite(x) -> bool\n",
      "        \n",
      "        Return True if x is neither an infinity nor a NaN, and False otherwise.\n",
      "    \n",
      "    isinf(...)\n",
      "        isinf(x) -> bool\n",
      "        \n",
      "        Return True if x is a positive or negative infinity, and False otherwise.\n",
      "    \n",
      "    isnan(...)\n",
      "        isnan(x) -> bool\n",
      "        \n",
      "        Return True if x is a NaN (not a number), and False otherwise.\n",
      "    \n",
      "    ldexp(...)\n",
      "        ldexp(x, i)\n",
      "        \n",
      "        Return x * (2**i).\n",
      "    \n",
      "    lgamma(...)\n",
      "        lgamma(x)\n",
      "        \n",
      "        Natural logarithm of absolute value of Gamma function at x.\n",
      "    \n",
      "    log(...)\n",
      "        log(x[, base])\n",
      "        \n",
      "        Return the logarithm of x to the given base.\n",
      "        If the base not specified, returns the natural logarithm (base e) of x.\n",
      "    \n",
      "    log10(...)\n",
      "        log10(x)\n",
      "        \n",
      "        Return the base 10 logarithm of x.\n",
      "    \n",
      "    log1p(...)\n",
      "        log1p(x)\n",
      "        \n",
      "        Return the natural logarithm of 1+x (base e).\n",
      "        The result is computed in a way which is accurate for x near zero.\n",
      "    \n",
      "    log2(...)\n",
      "        log2(x)\n",
      "        \n",
      "        Return the base 2 logarithm of x.\n",
      "    \n",
      "    modf(...)\n",
      "        modf(x)\n",
      "        \n",
      "        Return the fractional and integer parts of x.  Both results carry the sign\n",
      "        of x and are floats.\n",
      "    \n",
      "    pow(...)\n",
      "        pow(x, y)\n",
      "        \n",
      "        Return x**y (x to the power of y).\n",
      "    \n",
      "    radians(...)\n",
      "        radians(x)\n",
      "        \n",
      "        Convert angle x from degrees to radians.\n",
      "    \n",
      "    sin(...)\n",
      "        sin(x)\n",
      "        \n",
      "        Return the sine of x (measured in radians).\n",
      "    \n",
      "    sinh(...)\n",
      "        sinh(x)\n",
      "        \n",
      "        Return the hyperbolic sine of x.\n",
      "    \n",
      "    sqrt(...)\n",
      "        sqrt(x)\n",
      "        \n",
      "        Return the square root of x.\n",
      "    \n",
      "    tan(...)\n",
      "        tan(x)\n",
      "        \n",
      "        Return the tangent of x (measured in radians).\n",
      "    \n",
      "    tanh(...)\n",
      "        tanh(x)\n",
      "        \n",
      "        Return the hyperbolic tangent of x.\n",
      "    \n",
      "    trunc(...)\n",
      "        trunc(x:Real) -> Integral\n",
      "        \n",
      "        Truncates x to the nearest Integral toward 0. Uses the __trunc__ magic method.\n",
      "\n",
      "DATA\n",
      "    e = 2.718281828459045\n",
      "    inf = inf\n",
      "    nan = nan\n",
      "    pi = 3.141592653589793\n",
      "    tau = 6.283185307179586\n",
      "\n",
      "FILE\n",
      "    /Users/sliM/Dropbox_sliMD.T./Dropbox/sliM/St. Ambrose/Teaching/2019 Fall/csci195/lib/python3.6/lib-dynload/math.cpython-36m-darwin.so\n",
      "\n",
      "\n"
     ]
    }
   ],
   "source": [
    "\n",
    "## or help(math) to list more details\n",
    "help(math)"
   ]
  },
  {
   "cell_type": "code",
   "execution_count": 17,
   "metadata": {},
   "outputs": [
    {
     "name": "stdout",
     "output_type": "stream",
     "text": [
      "Help on built-in function sin in module math:\n",
      "\n",
      "sin(...)\n",
      "    sin(x)\n",
      "    \n",
      "    Return the sine of x (measured in radians).\n",
      "\n"
     ]
    }
   ],
   "source": [
    "help(math.sin)"
   ]
  },
  {
   "cell_type": "code",
   "execution_count": 18,
   "metadata": {},
   "outputs": [
    {
     "name": "stdout",
     "output_type": "stream",
     "text": [
      "Help on built-in function radians in module math:\n",
      "\n",
      "radians(...)\n",
      "    radians(x)\n",
      "    \n",
      "    Convert angle x from degrees to radians.\n",
      "\n"
     ]
    }
   ],
   "source": [
    "help(math.radians)"
   ]
  },
  {
   "cell_type": "markdown",
   "metadata": {},
   "source": [
    "### Exercises\n",
    "1. Run the help command as follows: help('turtle') (do not import turtle module)\n",
    "2. Run the help command as follows: help(turtle), what is the difference? (do not import turtle module)\n",
    "3. import turtle and repeat exercise 2\n",
    "4. Run the help command on the math.sin function\n",
    "5. Explore the random module using help facility. What does the randrange function do? What does the randint runction do?"
   ]
  },
  {
   "cell_type": "markdown",
   "metadata": {},
   "source": [
    "## The Archimedes Approach\n",
    "+ Archimedes makes use of a many-side polygon to approximate the circumference of a circle.\n",
    "\n",
    "![](https://i.ytimg.com/vi/_rJdkhlWZVQ/hqdefault.jpg)\n",
    "\n",
    "1. C = 2$\\pi$r or C = 2$\\pi$ if we let $r=1$. Then, $\\pi = \\dfrac{C}{2}$\n",
    "2. Suppose n-side polygon, $C=n\\times s$, where $s$ is the length of each side.\n",
    "3. $sin A= \\dfrac{\\frac{S}{2}}{r} = \\dfrac{S}{2}$, then $S = sin A \\times 2.$\n"
   ]
  },
  {
   "cell_type": "code",
   "execution_count": 5,
   "metadata": {},
   "outputs": [],
   "source": [
    "## suppose we are going to use a 8-side polygon to approximate $\\pi$. \n",
    "## code here"
   ]
  },
  {
   "cell_type": "markdown",
   "metadata": {},
   "source": [
    "def function_name(para1,para2):\n",
    "\n",
    "    statement1\n",
    "    statement2\n",
    "    \n",
    "    ...\n",
    "    \n",
    "    return expression"
   ]
  },
  {
   "cell_type": "code",
   "execution_count": 23,
   "metadata": {},
   "outputs": [],
   "source": [
    "## develop a function here\n",
    "import math\n",
    "def piArchimedes(n):\n",
    "    angle_degrees = 180/n\n",
    "    angle_radians = math.radians(angle_degrees)\n",
    "    pi = n*math.sin(angle_radians)\n",
    "    return pi"
   ]
  },
  {
   "cell_type": "code",
   "execution_count": 27,
   "metadata": {},
   "outputs": [
    {
     "name": "stdout",
     "output_type": "stream",
     "text": [
      "n =  6  pi is  2.9999999999999996\n",
      "n =  8  pi is  3.0614674589207183\n",
      "n =  888  pi is  3.141586100106987\n",
      "n =  999  pi is  3.141587475528624\n"
     ]
    }
   ],
   "source": [
    "n = 6\n",
    "print('n = ', n, ' pi is ', piArchimedes(n))\n",
    "\n",
    "n = 8\n",
    "print('n = ', n, ' pi is ', piArchimedes(n))\n",
    "\n",
    "n = 888\n",
    "print('n = ', n, ' pi is ', piArchimedes(n))\n",
    "\n",
    "n = 999\n",
    "print('n = ', n, ' pi is ', piArchimedes(n))"
   ]
  },
  {
   "cell_type": "markdown",
   "metadata": {},
   "source": [
    "## for repeatation\n",
    "+ for in range(start, stop, step)\n",
    "+ you can use help(range) to see details\n",
    "+ step is optional, step=1 by default\n",
    "+ example: range(0,100,10)"
   ]
  },
  {
   "cell_type": "code",
   "execution_count": 30,
   "metadata": {},
   "outputs": [
    {
     "name": "stdout",
     "output_type": "stream",
     "text": [
      "10\n",
      "20\n",
      "30\n",
      "40\n",
      "50\n",
      "60\n",
      "70\n",
      "80\n",
      "90\n"
     ]
    }
   ],
   "source": [
    "for i in range(10,100,10):\n",
    "    print(i)"
   ]
  },
  {
   "cell_type": "markdown",
   "metadata": {},
   "source": [
    "### exercise: 5. print $\\pi$ for n = 8,16,....,99"
   ]
  },
  {
   "cell_type": "markdown",
   "metadata": {},
   "source": [
    "### exercise:\n",
    "### 6. repeat the previous exercise, and also print the difference between the $\\pi$ you calculate and math.pi\n",
    "### 7. modify the archimedes function to take the radius as a parameter, can you get a better answer more quickly using a larger circle?"
   ]
  },
  {
   "cell_type": "markdown",
   "metadata": {},
   "source": [
    "---------\n",
    "## calculate $\\pi$  by the accumulator pattern\n",
    "### Leibniz Formula\n",
    "### $\\dfrac{\\pi}{4} = \\dfrac{1}{1} - \\dfrac{1}{3}+\\dfrac{1}{5}-\\dfrac{1}{7}+\\dfrac{1}{9}\\ldots $"
   ]
  },
  {
   "cell_type": "code",
   "execution_count": 8,
   "metadata": {},
   "outputs": [],
   "source": [
    "# example of the accumulator pattern: sum of 1+2+3+...+99+100"
   ]
  },
  {
   "cell_type": "markdown",
   "metadata": {},
   "source": [
    "---------\n",
    "### exercise:\n",
    "### sum of the first 100 even numbers"
   ]
  },
  {
   "cell_type": "code",
   "execution_count": null,
   "metadata": {},
   "outputs": [],
   "source": []
  },
  {
   "cell_type": "markdown",
   "metadata": {},
   "source": [
    "----\n",
    "### Define the function to calculate $\\pi$ by the Leibniz formula"
   ]
  },
  {
   "cell_type": "code",
   "execution_count": null,
   "metadata": {},
   "outputs": [],
   "source": []
  },
  {
   "cell_type": "markdown",
   "metadata": {},
   "source": [
    "----------\n",
    "### Define the function to calculate $\\pi$ by the Wallis formula\n",
    "### $\\dfrac{\\pi}{2} = \\dfrac{2}{1}\\times\\dfrac{2}{3}\\times\\dfrac{4}{3}\\times\\dfrac{4}{5}\\times\\dfrac{6}{5}\\times\\dfrac{6}{7}\\times\\dfrac{8}{7}\\times\\ldots$"
   ]
  },
  {
   "cell_type": "code",
   "execution_count": 9,
   "metadata": {},
   "outputs": [],
   "source": [
    "## define Wallis function here "
   ]
  },
  {
   "cell_type": "markdown",
   "metadata": {},
   "source": [
    "-------------------\n",
    "## A Monte Carlo Simulation\n",
    "![](https://helloacm.com/wp-content/uploads/2015/11/Monte-Carlo01.jpg)\n",
    "\n",
    "### Question:  We can randomly generate a point in Quadrant I,  how can we find out this point is in the circle or not?"
   ]
  },
  {
   "cell_type": "code",
   "execution_count": null,
   "metadata": {},
   "outputs": [],
   "source": [
    "## we can use random function in random module to randomly generate a floating-point number between 0 and 1.\n",
    "import random\n",
    "random.random()"
   ]
  },
  {
   "cell_type": "markdown",
   "metadata": {},
   "source": [
    "### Boolean expressions\n",
    "\n",
    "|Relational Operator| Meaning|\n",
    "|----|----|\n",
    "|<|less than|\n",
    "|<=|less than or equal to|\n",
    "|>|greater than|\n",
    "|>=|greater than or equal to|\n",
    "|==|equal|\n",
    "|!=|not equal|\n",
    "\n",
    "### Compound Boolean expressions by logical operators `and`, `or`, `not`\n",
    "\n",
    "|compound boolean expression|result|\n",
    "|----|----|\n",
    "|x and y|If x is False, return x; otherwise return y.|\n",
    "|x or y|If x is False, return y; otherwise return x.|\n",
    "|not x| If x is False, return True; otherwise return False.|\n",
    "\n",
    "#### and expression\n",
    "|and expression|result|\n",
    "|----|----|\n",
    "|True and True|True|\n",
    "|True and False|False|\n",
    "|False and True|False|\n",
    "|False and False|False|\n",
    "\n",
    "#### or expression\n",
    "|or expression|result|\n",
    "|----|----|\n",
    "|True or True|True|\n",
    "|True or False|True|\n",
    "|False or True|True|\n",
    "|False or False|False|\n",
    "\n",
    "#### not expression\n",
    "|not expression|result|\n",
    "|----|----|\n",
    "|not True|True|\n",
    "|not False|True|\n"
   ]
  },
  {
   "cell_type": "markdown",
   "metadata": {},
   "source": [
    "---------\n",
    "## selection statements\n",
    "\n",
    "### if-else\n",
    "~~~~\n",
    "if <condition>:\n",
    "    <statements>\n",
    "else:\n",
    "    <statements>\n",
    "~~~~\n",
    "\n",
    "![](https://media.geeksforgeeks.org/wp-content/uploads/decision-making-c-2.png)\n",
    "\n",
    "\n",
    "### if\n",
    "~~~~\n",
    "if <condition>:\n",
    "    <statements>\n",
    "~~~~\n",
    "\n",
    "### nested selection\n",
    "~~~~\n",
    "if <condition>:   \n",
    "    if <condition>:\n",
    "        <statements>\n",
    "    else:\n",
    "        <statements>\n",
    "else:\n",
    "    if <condition>:\n",
    "        <statements>\n",
    "    else:\n",
    "        <statements>\n",
    "~~~~\n",
    "\n",
    "### tail nested selection\n",
    "~~~~\n",
    "if <condition>:    \n",
    "    <statements>\n",
    "else:\n",
    "    if <condition>:\n",
    "        <statements>\n",
    "    else:\n",
    "        <statements>\n",
    "~~~~\n",
    "\n",
    "### if-elif-else:\n",
    "\n",
    "~~~~\n",
    "if <condition>:   \n",
    "    <statements>\n",
    "elif <condition>:  \n",
    "    <statements>   \n",
    "elif <condition>:  \n",
    "    <statements>\n",
    "....\n",
    "else:\n",
    "    <statement>\n",
    "~~~~"
   ]
  },
  {
   "cell_type": "code",
   "execution_count": 10,
   "metadata": {},
   "outputs": [],
   "source": [
    "## define the monte carlo method here to find pi"
   ]
  },
  {
   "cell_type": "code",
   "execution_count": null,
   "metadata": {},
   "outputs": [],
   "source": []
  },
  {
   "cell_type": "code",
   "execution_count": 36,
   "metadata": {},
   "outputs": [],
   "source": [
    "import random\n",
    "import turtle\n",
    "import math\n",
    "\n",
    "def show_monte_pi(num_darts):\n",
    "    wn = turtle.Screen()\n",
    "    drawing_t = turtle.Turtle()\n",
    "    wn.setworldcoordinates(-2,-2,2,2)\n",
    "    \n",
    "    drawing_t.up()\n",
    "    drawing_t.goto(-1,0)\n",
    "    drawing_t.down()\n",
    "    drawing_t.goto(1,0)\n",
    "    \n",
    "    drawing_t.up()\n",
    "    drawing_t.goto(0,1)\n",
    "    drawing_t.down()\n",
    "    drawing_t.goto(0,-1)\n",
    "    \n",
    "    circle = 0\n",
    "    drawing_t.up()\n",
    "    \n",
    "    for i in range(num_darts):\n",
    "        x = random.random()\n",
    "        y = random.random()\n",
    "        \n",
    "        d = math.sqrt(x**2 + y**2)\n",
    "        \n",
    "        drawing_t.goto(x,y)\n",
    "        \n",
    "        if d <=1:\n",
    "            circle = circle + 1\n",
    "            drawing_t.color(\"blue\")\n",
    "        else:\n",
    "            drawing_t.color(\"red\")\n",
    "            \n",
    "        drawing_t.dot()\n",
    "        \n",
    "    pi = circle/num_darts *4\n",
    "    \n",
    "    wn.exitonclick()\n",
    "    \n",
    "    return pi\n",
    "    "
   ]
  },
  {
   "cell_type": "code",
   "execution_count": 37,
   "metadata": {},
   "outputs": [
    {
     "data": {
      "text/plain": [
       "3.076"
      ]
     },
     "execution_count": 37,
     "metadata": {},
     "output_type": "execute_result"
    }
   ],
   "source": [
    "show_monte_pi(1000)"
   ]
  },
  {
   "cell_type": "code",
   "execution_count": null,
   "metadata": {},
   "outputs": [],
   "source": []
  }
 ],
 "metadata": {
  "kernelspec": {
   "display_name": "csci195",
   "language": "python",
   "name": "csci195"
  },
  "language_info": {
   "codemirror_mode": {
    "name": "ipython",
    "version": 3
   },
   "file_extension": ".py",
   "mimetype": "text/x-python",
   "name": "python",
   "nbconvert_exporter": "python",
   "pygments_lexer": "ipython3",
   "version": "3.6.6"
  }
 },
 "nbformat": 4,
 "nbformat_minor": 2
}
